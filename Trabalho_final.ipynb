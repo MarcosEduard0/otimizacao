{
 "cells": [
  {
   "cell_type": "code",
   "execution_count": 99,
   "metadata": {},
   "outputs": [],
   "source": [
    "# Definição do problema\n",
    "from pulp import *"
   ]
  },
  {
   "cell_type": "code",
   "execution_count": 100,
   "metadata": {},
   "outputs": [],
   "source": [
    "def relatorio(model, variables, tipo='Minimizar'):\n",
    "    # Função Objetivo\n",
    "    print(f'{tipo}:')\n",
    "    print(f'\\tz = {model.objective}')\n",
    "    print()\n",
    "    # Restrições\n",
    "    print('Sujeito a:')\n",
    "    for restricao in model.constraints.values():\n",
    "        print(f'\\t{restricao}')\n",
    "    print(f'\\t{str(variables)[1:-1]} ∈ [0,1]')\n",
    "    print()\n",
    "\n",
    "    # Resolvendo o problema\n",
    "    status = model.solve()\n",
    "\n",
    "    # Vendo resultados\n",
    "    print(f\"Status: {'Sucesso' if model.status else 'Falha':}, solução { 'ótima' if LpStatus[model.status] == 'Optimal' else LpStatus[model.status]} encontrada\")\n",
    "    print(f\"Valor objetivo (z): {round(model.objective.value(),2)}\")\n",
    "    print()\n",
    "\n",
    "    print(\"Valores encontrados:\")\n",
    "    for var in variables:\n",
    "        print(f\"{var.name}: {var.value()}\")"
   ]
  },
  {
   "cell_type": "code",
   "execution_count": 101,
   "metadata": {},
   "outputs": [],
   "source": [
    "modelo = LpProblem(\"ExpedicaoPesquisaMarte\", LpMinimize)\n",
    "# Homens\n",
    "homens = [\"Fábio\", \"Gallo\", \"Saulo\", \"Paulo\", \"José\", \"Bruno\"]\n",
    "qtd_homens = len(homens)\n",
    "# h = LpVariable.dict(\"h\", [i for i in range(qtd_homens)], lowBound = 0, upBound = 1, cat='Integer') # variável binária\n",
    "h = {i: LpVariable(name=f\"h{homens[i][0]}\", lowBound=0, upBound=1, cat='Integer') for i in range(qtd_homens)} # variável binária\n",
    "\n",
    "# Mulheres\n",
    "mulheres = [\"Maria\", \"Ana\", \"Linda\", \"Dina\", \"Carla\"]\n",
    "qtd_mulheres = len(mulheres)\n",
    "# m = LpVariable.dicts(\"m\", [i for i in range(qtd_mulheres)], lowBound = 0, upBound = 1, cat='Integer') # variável binária\n",
    "m = {i: LpVariable(name=f\"m{mulheres[i][0]}\", lowBound=0, upBound=1, cat='Integer') for i in range(qtd_mulheres)} # variável binária\n"
   ]
  },
  {
   "cell_type": "code",
   "execution_count": 102,
   "metadata": {},
   "outputs": [],
   "source": [
    "# a) Restrição associada ao número de homens e mulheres na missão\n",
    "\n",
    "modelo += lpSum(h[i] for i in range(qtd_homens)) >= 2 # Quantidade mínima de homens na missão\n",
    "                 \n",
    "modelo += lpSum(m[i] for i in range(qtd_mulheres)) >= 1 # Quantidade mínima de mulheres na missão                 \n"
   ]
  },
  {
   "cell_type": "code",
   "execution_count": 103,
   "metadata": {},
   "outputs": [],
   "source": [
    "# b) Restrição associada à exigência da habilidade de comando:\n",
    "\n",
    "# Fábio, Gallo, José, Bruno e Dina possuem a habilidades\n",
    "\n",
    "modelo += lpSum([h[0], h[1], h[4], h[5], m[3]]) >= 2"
   ]
  },
  {
   "cell_type": "code",
   "execution_count": 104,
   "metadata": {},
   "outputs": [],
   "source": [
    "# c) Restrição associada à exigência da habilidade de psicologia:\n",
    "\n",
    "# Dina e Carla possuem a habilidade\n",
    "\n",
    "modelo += lpSum([m[3], m[4]]) >= 1"
   ]
  },
  {
   "cell_type": "code",
   "execution_count": 105,
   "metadata": {},
   "outputs": [],
   "source": [
    "# d) Restrição associada à exigência da habilidade de astronomia:\n",
    "\n",
    "# Saulo, Paulo e Bruno possuem a habilidade\n",
    "modelo += lpSum([h[2], h[3], h[5]]) >= 1"
   ]
  },
  {
   "cell_type": "code",
   "execution_count": 106,
   "metadata": {},
   "outputs": [],
   "source": [
    "# e) Restrição associada à exigência da habilidade de informática:\n",
    "\n",
    "# Fábio, José, Maria, Linda, Dina possuem a habilidade\n",
    "\n",
    "modelo += lpSum([h[homens.index(\"Fábio\")], h[homens.index(\"José\")], m[mulheres.index(\"Maria\")], m[mulheres.index(\"Linda\")], m[mulheres.index(\"Dina\")]]) >= 1"
   ]
  },
  {
   "cell_type": "code",
   "execution_count": 107,
   "metadata": {},
   "outputs": [],
   "source": [
    "# f) Restrição associada ao uso do simulador:\n",
    "\n",
    "# homens = [\"Fábio\", \"Gallo\", \"Saulo\", \"Paulo\", \"José\", \"Bruno\"]\n",
    "# mulheres = [\"Maria\", \"Ana\", \"Linda\", \"Dina\", \"Carla\"]\n",
    "\n",
    "modelo += lpSum([15*h[0], 20*h[1], 18*h[2], 24*h[3], 22*h[4], 10*h[5], 20*m[0], 25*m[1], 20*m[2], 18*m[3], 10*m[3]]) <= 1000"
   ]
  },
  {
   "cell_type": "code",
   "execution_count": 108,
   "metadata": {},
   "outputs": [],
   "source": [
    "# g) Restrição de compatibilidade pessoal:\n",
    "\n",
    "modelo += lpSum([h[homens.index(\"Fábio\")], h[homens.index(\"José\")]]) <= 1\n",
    "modelo += lpSum([h[homens.index(\"Bruno\")], m[mulheres.index(\"Linda\")]]) <= 1\n",
    "modelo += lpSum([m[mulheres.index(\"Dina\")], m[mulheres.index(\"Ana\")]]) <= 1"
   ]
  },
  {
   "cell_type": "code",
   "execution_count": 109,
   "metadata": {},
   "outputs": [],
   "source": [
    "# POR ENQUANTO ESTÁ COMPLEXA E SERÁ REMOVIDO\n",
    "\n",
    "# # h) Restrição associada aos aspectos epidemiológicos:\n",
    "\n",
    "# saude_homens = [150, 150, 95, 140, 90, 105]\n",
    "# saude_mulheres = [145, 145, 105, 140, 95]\n",
    "\n",
    "# combinacoes = {\"homens\": saude_homens, \"mulheres\": saude_mulheres}\n",
    "# combinacao = pulp.LpVariable.dicts(\"combine\", combinacoes, cat='Binary')\n",
    "\n",
    "# h) Quantidade de pessoas na expedição\n",
    "\n",
    "modelo += lpSum([h[i] for i in range(qtd_homens)] + [m[j] for j in range(qtd_mulheres)]) == 5\n"
   ]
  },
  {
   "cell_type": "code",
   "execution_count": 110,
   "metadata": {},
   "outputs": [],
   "source": [
    "peso_homens = [80, 85, 70, 65, 90, 75]\n",
    "baguagem_homens = [35, 25, 30, 40, 17, 40]\n",
    "\n",
    "peso_homens = {homens[i]: [peso_homens[i], baguagem_homens[i]] for i in range(qtd_homens)}\n",
    "\n",
    "peso_mulheres = [50, 45, 55, 60, 65]\n",
    "baguagem_mulheres = [30, 40, 30, 20, 30]\n",
    "\n",
    "peso_mulheres = {mulheres[i]: [peso_mulheres[i], baguagem_mulheres[i]] for i in range(qtd_mulheres)}"
   ]
  },
  {
   "cell_type": "code",
   "execution_count": 111,
   "metadata": {},
   "outputs": [],
   "source": [
    "# A: É a parcela relativa ao custo pelo peso dos tripulantes e suas bagagens\n",
    "\n",
    "A = [(peso_homens[nome][0] + peso_homens[nome][1])*h[homens.index(nome)] for nome in homens]\n",
    "A += [(peso_mulheres[nome][0] + peso_mulheres[nome][1])*m[mulheres.index(nome)] for nome in mulheres]\n",
    "A = sum(A)"
   ]
  },
  {
   "cell_type": "code",
   "execution_count": 112,
   "metadata": {},
   "outputs": [],
   "source": [
    "# teta = LpVariable(name=\"teta\", lowBound=0, upBound=1, cat='Integer')\n",
    "\n",
    "# B = [(peso_homens[nome][0] + peso_homens[nome][1])*h[homens.index(nome)] for nome in homens]\n",
    "# B += [(peso_mulheres[nome][0] + peso_mulheres[nome][1])*m[mulheres.index(nome)] for nome in mulheres]\n",
    "# B = sum(B) - 1000\n",
    "\n",
    "# print(B)\n",
    "\n",
    "# modelo += (B)*teta >= 0\n",
    "\n",
    "# modelo += (10**4)*A + (10**7)*teta"
   ]
  },
  {
   "cell_type": "code",
   "execution_count": 113,
   "metadata": {},
   "outputs": [],
   "source": [
    "modelo += A"
   ]
  },
  {
   "cell_type": "code",
   "execution_count": 114,
   "metadata": {},
   "outputs": [
    {
     "data": {
      "text/plain": [
       "1"
      ]
     },
     "execution_count": 114,
     "metadata": {},
     "output_type": "execute_result"
    }
   ],
   "source": [
    "modelo.solve()"
   ]
  },
  {
   "cell_type": "code",
   "execution_count": 115,
   "metadata": {},
   "outputs": [
    {
     "name": "stdout",
     "output_type": "stream",
     "text": [
      "Minimizar:\n",
      "\tz = 115*hB + 115*hF + 110*hG + 107*hJ + 105*hP + 100*hS + 85*mA + 95*mC + 80*mD + 85*mL + 80*mM\n",
      "\n",
      "Sujeito a:\n",
      "\thB + hF + hG + hJ + hP + hS >= 2\n",
      "\tmA + mC + mD + mL + mM >= 1\n",
      "\thB + hF + hG + hJ + mD >= 2\n",
      "\tmC + mD >= 1\n",
      "\thB + hP + hS >= 1\n",
      "\thF + hJ + mD + mL + mM >= 1\n",
      "\t10*hB + 15*hF + 20*hG + 22*hJ + 24*hP + 18*hS + 25*mA + 28*mD + 20*mL + 20*mM <= 1000\n",
      "\thF + hJ <= 1\n",
      "\thB + mL <= 1\n",
      "\tmA + mD <= 1\n",
      "\thB + hF + hG + hJ + hP + hS + mA + mC + mD + mL + mM = 5\n",
      "\thB, hF, hG, hJ, hP, hS, mA, mC, mD, mL, mM ∈ [0,1]\n",
      "\n",
      "Status: Sucesso, solução ótima encontrada\n",
      "Valor objetivo (z): 452.0\n",
      "\n",
      "Valores encontrados:\n",
      "hB: 0.0\n",
      "hF: 0.0\n",
      "hG: 0.0\n",
      "hJ: 1.0\n",
      "hP: 0.0\n",
      "hS: 1.0\n",
      "mA: 0.0\n",
      "mC: 0.0\n",
      "mD: 1.0\n",
      "mL: 1.0\n",
      "mM: 1.0\n"
     ]
    }
   ],
   "source": [
    "relatorio(modelo, modelo.variables(), 'Minimizar')"
   ]
  }
 ],
 "metadata": {
  "kernelspec": {
   "display_name": "Python 3.9.4 64-bit",
   "language": "python",
   "name": "python3"
  },
  "language_info": {
   "codemirror_mode": {
    "name": "ipython",
    "version": 3
   },
   "file_extension": ".py",
   "mimetype": "text/x-python",
   "name": "python",
   "nbconvert_exporter": "python",
   "pygments_lexer": "ipython3",
   "version": "3.9.4"
  },
  "orig_nbformat": 4,
  "vscode": {
   "interpreter": {
    "hash": "cbcd2eabae12430053f00efeab0f6299a5d7218b8f6c0f3c74c4198075d9f3c9"
   }
  }
 },
 "nbformat": 4,
 "nbformat_minor": 2
}
