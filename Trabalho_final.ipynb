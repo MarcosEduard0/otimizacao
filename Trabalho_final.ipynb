{
 "cells": [
  {
   "attachments": {},
   "cell_type": "markdown",
   "metadata": {},
   "source": [
    "## Importação"
   ]
  },
  {
   "cell_type": "code",
   "execution_count": 171,
   "metadata": {},
   "outputs": [],
   "source": [
    "# Definição do problema\n",
    "from pulp import *"
   ]
  },
  {
   "cell_type": "code",
   "execution_count": 172,
   "metadata": {},
   "outputs": [],
   "source": [
    "def relatorio(model, variables, tipo='Minimizar'):\n",
    "    # Função Objetivo\n",
    "    print(f'{tipo}:')\n",
    "    print(f'\\tz = {model.objective}')\n",
    "    print()\n",
    "    # Restrições\n",
    "    print('Sujeito a:')\n",
    "    for restricao in model.constraints.values():\n",
    "        print(f'\\t{restricao}')\n",
    "    print(f'\\t{str(variables)[1:-1]} ∈ [0,1]')\n",
    "    print()\n",
    "\n",
    "    # Resolvendo o problema\n",
    "    status = model.solve()\n",
    "\n",
    "    # Vendo resultados\n",
    "    print(f\"Status: {'Sucesso' if model.status else 'Falha':}, solução { 'ótima' if LpStatus[model.status] == 'Optimal' else LpStatus[model.status]} encontrada\")\n",
    "    print(f\"Valor objetivo (z): {round(model.objective.value(),2)}\")\n",
    "    print()\n",
    "\n",
    "    print(\"Valores encontrados:\")\n",
    "    for var in variables:\n",
    "        print(f\"{var.name}: {var.value()}\")"
   ]
  },
  {
   "attachments": {},
   "cell_type": "markdown",
   "metadata": {},
   "source": [
    "## Implementação"
   ]
  },
  {
   "attachments": {},
   "cell_type": "markdown",
   "metadata": {},
   "source": [
    "### Definição do Modelo"
   ]
  },
  {
   "cell_type": "code",
   "execution_count": 174,
   "metadata": {},
   "outputs": [],
   "source": [
    "# Definição do modelo\n",
    "modelo = LpProblem(\"ExpedicaoPesquisaMarte\", sense=LpMinimize)\n",
    "\n",
    "# Definindo as variaveis de decisão para homens\n",
    "homens = (\"F\", \"G\", \"S\", \"P\", \"J\", \"B\")\n",
    "h = {nome: LpVariable(name=f\"h{nome}\", cat='Binary') for nome in homens} # variável binária\n",
    "\n",
    "# Definindo as variaveis de decisão para mulheres\n",
    "mulheres = (\"M\", \"A\", \"L\", \"D\", \"C\")\n",
    "m = {nome: LpVariable(name=f\"m{nome}\", cat='Binary') for nome in mulheres} # variável binária\n"
   ]
  },
  {
   "attachments": {},
   "cell_type": "markdown",
   "metadata": {},
   "source": [
    "### Restrições"
   ]
  },
  {
   "cell_type": "code",
   "execution_count": 175,
   "metadata": {},
   "outputs": [],
   "source": [
    "# Restrição associada ao número de homens e mulheres na missão:\n",
    "modelo += lpSum(h[i] for i in homens) >= 2 \n",
    "modelo += lpSum(m[i] for i in mulheres) >= 1\n",
    "\n",
    "# Restrição associada à exigência da habilidade de comando:\n",
    "modelo += lpSum([h['F'], h['G'], h['J'], h['B'], m['D']]) >= 2\n",
    "\n",
    "# Restrição associada à exigência da habilidade de medicina:\n",
    "modelo += lpSum([h['G'], m['M'], m['L'], m['C']]) >= 1\n",
    "\n",
    "# Restrição associada à exigência da habilidade de psicologia:\n",
    "modelo += lpSum([m['D'], m['C']]) >= 1\n",
    "\n",
    "# Restrição associada à exigência da habilidade de astronomia:\n",
    "modelo += lpSum([h['P'], h['B'], h['S']]) >= 1\n",
    "\n",
    "# Restrição associada à exigência da habilidade de informática:\n",
    "modelo += lpSum([h['F'], h['J'], m['M'], m['L'], m['D']]) >= 1\n",
    "\n",
    "# Restrição associada ao uso do simulador:\n",
    "modelo += lpSum([15*h['F'], 20*h['G'], 18*h['S'], 24*h['P'], 22*h['J'], 10*h['B'], 20*m['M'], 25*m['A'], 20*m['L'], 18*m['D'], 10*m['C']]) <= 1000\n",
    "\n",
    "# Restrição de compatibilidade pessoal:\n",
    "modelo += lpSum([h['F'], h['J']]) <= 1\n",
    "modelo += lpSum([h['B'], m['L']]) <= 1\n",
    "modelo += lpSum([m['D'], m['A']]) <= 1\n",
    "\n",
    "# Restrição associada aos aspectos epidemiológicos:\n",
    "saude_homens = [150, 150, 95, 140, 90, 105]\n",
    "saude_mulheres = [145, 145, 105, 140, 95]\n",
    "saude_homens = [saude_homens[idx]*h[nome] for idx, nome in enumerate(homens)]\n",
    "saude_mulheres = [saude_mulheres[idx]*m[nome] for idx, nome in enumerate(mulheres)]\n",
    "modelo += sum(saude_mulheres + saude_mulheres) >= 290\n",
    "\n",
    "# Quantidade de pessoas na expedição\n",
    "modelo += sum(h.values(), m.values()) == 5"
   ]
  },
  {
   "cell_type": "code",
   "execution_count": 176,
   "metadata": {},
   "outputs": [],
   "source": [
    "peso_homens = [80, 85, 70, 65, 90, 75]\n",
    "baguagem_homens = [35, 25, 30, 40, 17, 40]\n",
    "\n",
    "peso_homens_total = [(peso_homens[idx] + baguagem_homens[idx])*h[nome] for idx, nome in enumerate(homens)]\n",
    "\n",
    "peso_mulheres = [50, 45, 55, 60, 65]\n",
    "baguagem_mulheres = [30, 40, 30, 20, 30]\n",
    "\n",
    "peso_mulheres_total = [(peso_mulheres[idx] + baguagem_mulheres[idx])*m[nome] for idx, nome in enumerate(mulheres)]"
   ]
  },
  {
   "cell_type": "code",
   "execution_count": 177,
   "metadata": {},
   "outputs": [],
   "source": [
    "# A: É a parcela relativa ao custo pelo peso dos tripulantes e suas bagagens\n",
    "A = 10**4*sum(peso_homens_total + peso_mulheres_total)"
   ]
  },
  {
   "cell_type": "code",
   "execution_count": 179,
   "metadata": {},
   "outputs": [],
   "source": [
    "modelo += A"
   ]
  },
  {
   "attachments": {},
   "cell_type": "markdown",
   "metadata": {},
   "source": [
    "### Resultado"
   ]
  },
  {
   "cell_type": "code",
   "execution_count": 180,
   "metadata": {},
   "outputs": [
    {
     "name": "stdout",
     "output_type": "stream",
     "text": [
      "Minimizar:\n",
      "\tz = 1150000*hB + 1150000*hF + 1100000*hG + 1070000*hJ + 1050000*hP + 1000000*hS + 850000*mA + 950000*mC + 800000*mD + 850000*mL + 800000*mM\n",
      "\n",
      "Sujeito a:\n",
      "\thB + hF + hG + hJ + hP + hS >= 2\n",
      "\tmA + mC + mD + mL + mM >= 1\n",
      "\thB + hF + hG + hJ + mD >= 2\n",
      "\thG + mC + mL + mM >= 1\n",
      "\tmC + mD >= 1\n",
      "\thB + hP + hS >= 1\n",
      "\thF + hJ + mD + mL + mM >= 1\n",
      "\t10*hB + 15*hF + 20*hG + 22*hJ + 24*hP + 18*hS + 25*mA + 10*mC + 18*mD + 20*mL + 20*mM <= 1000\n",
      "\thF + hJ <= 1\n",
      "\thB + mL <= 1\n",
      "\tmA + mD <= 1\n",
      "\t290*mA + 190*mC + 280*mD + 210*mL + 290*mM >= 290\n",
      "\thB + hF + hG + hJ + hP + hS + mA + mC + mD + mL + mM = 5\n",
      "\thB, hF, hG, hJ, hP, hS, mA, mC, mD, mL, mM ∈ [0,1]\n",
      "\n",
      "Status: Sucesso, solução ótima encontrada\n",
      "Valor objetivo (z): 4520000.0\n",
      "\n",
      "Valores encontrados:\n",
      "hB: 0.0\n",
      "hF: 0.0\n",
      "hG: 0.0\n",
      "hJ: 1.0\n",
      "hP: 0.0\n",
      "hS: 1.0\n",
      "mA: 0.0\n",
      "mC: 0.0\n",
      "mD: 1.0\n",
      "mL: 1.0\n",
      "mM: 1.0\n"
     ]
    }
   ],
   "source": [
    "relatorio(modelo, modelo.variables(), 'Minimizar')"
   ]
  }
 ],
 "metadata": {
  "kernelspec": {
   "display_name": "Python 3.9.4 64-bit",
   "language": "python",
   "name": "python3"
  },
  "language_info": {
   "codemirror_mode": {
    "name": "ipython",
    "version": 3
   },
   "file_extension": ".py",
   "mimetype": "text/x-python",
   "name": "python",
   "nbconvert_exporter": "python",
   "pygments_lexer": "ipython3",
   "version": "3.9.4"
  },
  "orig_nbformat": 4,
  "vscode": {
   "interpreter": {
    "hash": "cbcd2eabae12430053f00efeab0f6299a5d7218b8f6c0f3c74c4198075d9f3c9"
   }
  }
 },
 "nbformat": 4,
 "nbformat_minor": 2
}
