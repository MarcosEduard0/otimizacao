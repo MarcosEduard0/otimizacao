{
  "cells": [
    {
      "cell_type": "code",
      "execution_count": 3,
      "metadata": {
        "id": "TS0bopQmBndt"
      },
      "outputs": [],
      "source": [
        "import numpy as np\n",
        "import matplotlib.pyplot as plt\n",
        "from pulp import LpMaximize, LpProblem, LpStatus, lpSum, LpVariable, LpMinimize"
      ]
    },
    {
      "cell_type": "markdown",
      "metadata": {},
      "source": [
        "# Questão 1 - Trabalho"
      ]
    },
    {
      "cell_type": "code",
      "execution_count": 5,
      "metadata": {
        "id": "VwjjZiJ38dVQ"
      },
      "outputs": [],
      "source": [
        "taxa = {'11': .050, '12': .065, '13': .061,\n",
        "        '21': .052, '22': .062, '23': .062,\n",
        "        '31': .055, '32': .058, '33': .065}"
      ]
    },
    {
      "cell_type": "code",
      "execution_count": 8,
      "metadata": {
        "id": "HUA4wdTH_1Mb"
      },
      "outputs": [],
      "source": [
        "for t in taxa:\n",
        "  taxa[t] = taxa[t]/(1-(1+taxa[t])**-8) "
      ]
    },
    {
      "cell_type": "code",
      "execution_count": 78,
      "metadata": {},
      "outputs": [],
      "source": [
        "def relatorio(model, tipo='Maximizar'):\n",
        "    # Função Objetivo\n",
        "    print(f'{tipo}:')\n",
        "    print(f'\\tz = {model.objective}')\n",
        "    print()\n",
        "    # Restrições\n",
        "    print('Sujeito a:')\n",
        "    for restricao in model.constraints.values():\n",
        "        print(f'\\t{restricao}')\n",
        "    print(f'\\t{model.variables()} ≥ 0')\n",
        "    print()\n",
        "\n",
        "    # Resolvendo o problema\n",
        "    status = model.solve()\n",
        "\n",
        "    # Vendo resultados\n",
        "    print(f\"Status: {'Sucesso' if model.status else 'Falha':}, solução { 'ótima' if LpStatus[model.status] == 'Optimal' else LpStatus[model.status]} encontrada\")\n",
        "    print(f\"Objetivo: {model.objective.value()}\")\n",
        "    print()\n",
        "\n",
        "    print(\"Valores encontrados:\")\n",
        "    for var in x.values():\n",
        "        print(f\"{var.name}: {var.value()}\")\n",
        "\n",
        "    # for name, constraint in model.constraints.items():\n",
        "    #     print(f\"{name}: {constraint.value()}\")"
      ]
    },
    {
      "cell_type": "code",
      "execution_count": 79,
      "metadata": {
        "colab": {
          "base_uri": "https://localhost:8080/"
        },
        "id": "ZOHp93yPw2GP",
        "outputId": "6800453c-0b82-40a8-c84d-e91f3456bc6a"
      },
      "outputs": [
        {
          "name": "stdout",
          "output_type": "stream",
          "text": [
            "Minimizar:\n",
            "\tz = 0.15472181362768106*x11 + 0.16423729705258008*x12 + 0.16167386959573177*x13 + 0.15597510536510614*x21 + 0.16231297100791664*x22 + 0.16231297100791664*x23 + 0.15786401182269535*x31 + 0.15976362210010767*x32 + 0.16423729705258008*x33\n",
            "\n",
            "Sujeito a:\n",
            "\tx11 + x21 + x31 = 2500000\n",
            "\tx12 + x22 + x32 = 1500000\n",
            "\tx13 + x23 + x33 = 1700000\n",
            "\tx11 + x12 + x13 <= 3000000\n",
            "\tx21 + x22 + x23 <= 3000000\n",
            "\tx31 + x32 + x33 <= 3000000\n",
            "\t[x11, x12, x13, x21, x22, x23, x31, x32, x33] ≥ 0\n",
            "\n",
            "Status: Sucesso, solução ótima encontrada\n",
            "Objetivo: 902062.46722673\n",
            "\n",
            "Valores encontrados:\n",
            "x11: 2500000.0\n",
            "x12: 0.0\n",
            "x13: 500000.0\n",
            "x21: 0.0\n",
            "x22: 0.0\n",
            "x23: 1200000.0\n",
            "x31: 0.0\n",
            "x32: 1500000.0\n",
            "x33: 0.0\n"
          ]
        }
      ],
      "source": [
        "# Iniciando modelo como Minimizar\n",
        "modelo = LpProblem(name=\"emprestimo-bancario\", sense=LpMinimize)\n",
        "\n",
        "# Definindo variavel de decisão\n",
        "x = {f'{i}{j}': LpVariable(name=f\"x{i}{j}\", lowBound=0) for i in range(1, 4) for j in range(1,4)}\n",
        "\n",
        "# Adiciona restrições\n",
        "modelo += (x['11']+x['21']+x['31'] == 2500000, \"Custo loja SP\")\n",
        "modelo += (x['12']+x['22']+x['32'] == 1500000, \"Custo loja GO\")\n",
        "modelo += (x['13']+x['23']+x['33'] == 1700000, \"Custo loja RE\")\n",
        "\n",
        "modelo += (x['11']+x['12']+x['13'] <= 3000000, \"Valor Max Banco 1\")\n",
        "modelo += (x['21']+x['22']+x['23'] <= 3000000, \"Valor Max Banco 2\")\n",
        "modelo += (x['31']+x['32']+x['33'] <= 3000000, \"Valor Max Banco 3\")\n",
        "\n",
        "# Função Objetivo\n",
        "modelo += x['11']*taxa['11'] + x['12']*taxa['12'] + x['13']*taxa['13'] + \\\n",
        "         x['21']*taxa['21'] + x['22']*taxa['22'] + x['23']*taxa['23'] + \\\n",
        "         x['31']*taxa['31'] + x['32']*taxa['32'] + x['33']*taxa['33']\n",
        "\n",
        "relatorio(modelo, 'Minimizar')\n"
      ]
    },
    {
      "cell_type": "markdown",
      "metadata": {},
      "source": [
        "# Questão 2"
      ]
    },
    {
      "cell_type": "code",
      "execution_count": 80,
      "metadata": {},
      "outputs": [
        {
          "name": "stdout",
          "output_type": "stream",
          "text": [
            "Maximizar:\n",
            "\tz = 5.3*x1 + 6.2*x2 + 5.4*x3 + 4.9*x4 + 6.5*x5 + 3.4*x6\n",
            "\n",
            "Sujeito a:\n",
            "\tx2 + x3 + x5 + x6 = 50000\n",
            "\tx1 + x2 + x3 <= 30000\n",
            "\tx1 <= 40000\n",
            "\tx2 <= 40000\n",
            "\tx3 <= 40000\n",
            "\tx4 <= 40000\n",
            "\tx5 <= 40000\n",
            "\tx6 <= 40000\n",
            "\tx1 >= 5000\n",
            "\tx2 >= 5000\n",
            "\tx3 >= 5000\n",
            "\tx4 >= 5000\n",
            "\tx5 >= 5000\n",
            "\tx6 >= 5000\n",
            "\t[x1, x2, x3, x4, x5, x6] ≥ 0\n",
            "\n",
            "Status: Sucesso, solução ótima encontrada\n",
            "Objetivo: 604500.0\n",
            "\n",
            "Valores encontrados:\n",
            "x1: 20000.0\n",
            "x2: 5000.0\n",
            "x3: 5000.0\n",
            "x4: 40000.0\n",
            "x5: 35000.0\n",
            "x6: 5000.0\n"
          ]
        }
      ],
      "source": [
        "# Iniciando modelo como Minimizar\n",
        "modelo = LpProblem(name=\"Investimento_de_Ações\", sense=LpMaximize)\n",
        "\n",
        "# Definindo variavel de decisão\n",
        "x = { i: LpVariable(name=f\"x{i}\", lowBound=0) for i in range(1, 7)}\n",
        "\n",
        "# Adiciona restrições\n",
        "modelo += (x[2] + x[3] + x[5] + x[6] == 50000, \"Empresas_brasileiras\")\n",
        "modelo += (x[1] + x[2] + x[3] <= 30000, \"Empresas_tecnologicas\")\n",
        "for i in range (1,7):\n",
        "    modelo += (x[i] <= 40000, f\"Investimento Máximo da ação {i}\")\n",
        "for i in range (1,7):\n",
        "    modelo += (x[i] >= 5000, f\"Investimento Minimo da ação {i}\")\n",
        "\n",
        "# Função Objetivo\n",
        "modelo += 5.3*x[1] + 6.2*x[2] + 5.4*x[3] + 4.9*x[4] + 6.5*x[5] + 3.4*x[6]\n",
        "relatorio(modelo, 'Maximizar')\n"
      ]
    }
  ],
  "metadata": {
    "colab": {
      "collapsed_sections": [],
      "provenance": []
    },
    "kernelspec": {
      "display_name": "Python 3.9.4 64-bit",
      "language": "python",
      "name": "python3"
    },
    "language_info": {
      "codemirror_mode": {
        "name": "ipython",
        "version": 3
      },
      "file_extension": ".py",
      "mimetype": "text/x-python",
      "name": "python",
      "nbconvert_exporter": "python",
      "pygments_lexer": "ipython3",
      "version": "3.9.4"
    },
    "vscode": {
      "interpreter": {
        "hash": "cbcd2eabae12430053f00efeab0f6299a5d7218b8f6c0f3c74c4198075d9f3c9"
      }
    }
  },
  "nbformat": 4,
  "nbformat_minor": 0
}
