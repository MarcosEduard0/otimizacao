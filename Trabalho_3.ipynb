{
  "nbformat": 4,
  "nbformat_minor": 0,
  "metadata": {
    "colab": {
      "provenance": []
    },
    "kernelspec": {
      "name": "python3",
      "display_name": "Python 3"
    },
    "language_info": {
      "name": "python"
    }
  },
  "cells": [
    {
      "cell_type": "markdown",
      "source": [
        "Gabrielly de Andrade - 116149740\n",
        "\n",
        "Marcos Eduardo - 114097955\n",
        "\n",
        "Mauro Nascimento - 118090256"
      ],
      "metadata": {
        "id": "abyBCKIyUNVc"
      }
    },
    {
      "cell_type": "markdown",
      "source": [
        "## Bibliotecas"
      ],
      "metadata": {
        "id": "Ip7xNm8mU3PA"
      }
    },
    {
      "cell_type": "code",
      "source": [
        "pip install pulp"
      ],
      "metadata": {
        "colab": {
          "base_uri": "https://localhost:8080/"
        },
        "id": "XvnOdx7oUKrR",
        "outputId": "1e22fae0-cb6d-4a19-cd96-7f516c0b6092"
      },
      "execution_count": null,
      "outputs": [
        {
          "output_type": "stream",
          "name": "stdout",
          "text": [
            "Looking in indexes: https://pypi.org/simple, https://us-python.pkg.dev/colab-wheels/public/simple/\n",
            "Requirement already satisfied: pulp in /usr/local/lib/python3.7/dist-packages (2.7.0)\n"
          ]
        }
      ]
    },
    {
      "cell_type": "code",
      "source": [
        "from pulp import LpMaximize, LpProblem, LpStatus, lpSum, LpVariable, LpMinimize\n",
        "from scipy.optimize import linprog"
      ],
      "metadata": {
        "id": "krLIHYroUID9"
      },
      "execution_count": null,
      "outputs": []
    },
    {
      "cell_type": "markdown",
      "source": [
        "## Funções Axuliares"
      ],
      "metadata": {
        "id": "lcx2oXkJU5H5"
      }
    },
    {
      "cell_type": "code",
      "source": [
        "def formatar(vars, rest, b):\n",
        "  equacao = ''\n",
        "  for i, v in enumerate(vars):\n",
        "    if v > 0:\n",
        "      sinal = '+'\n",
        "      if i == 0:\n",
        "        sinal = ''\n",
        "    else:\n",
        "      sinal = ' - '\n",
        "    equacao += sinal+str(abs(v))+f'*y{i+1}'\n",
        "  print(f'Maximizar: {equacao}')\n",
        "  print(f'Sujeito a:')\n",
        "  restricao = []\n",
        "  s1, s2, s3 = '', '', ''\n",
        "  for i, row in enumerate(rest):\n",
        "    y1, y2, y3 = row\n",
        "    if y1 < 0:\n",
        "      s1 = '- '\n",
        "    else:\n",
        "      s1 = '  '\n",
        "    if y2 >= 0:\n",
        "      s2 = '+ '\n",
        "    else:\n",
        "      s2 = '- '\n",
        "    if y3 >= 0:\n",
        "      s3 = '+ '\n",
        "    else:\n",
        "      s3 = '- '\n",
        "    print(f'\\t{s1}{abs(y1)}y1 {s2}{abs(y2)}y2 {s3}{abs(y3)}y3 <= {b[i]}')"
      ],
      "metadata": {
        "id": "HPnWweu9u94h"
      },
      "execution_count": null,
      "outputs": []
    },
    {
      "cell_type": "code",
      "source": [
        "def relatorio(model, variables, tipo='Maximizar'):\n",
        "    # Função Objetivo\n",
        "    print(f'{tipo}:')\n",
        "    print(f'\\tz = {model.objective}')\n",
        "    print()\n",
        "    # Restrições\n",
        "    print('Sujeito a:')\n",
        "    for restricao in model.constraints.values():\n",
        "        print(f'\\t{restricao}')\n",
        "    print(f'\\t{str(modelo.variables())[1:-1]} ≥ 0')\n",
        "    print()\n",
        "\n",
        "    # Resolvendo o problema\n",
        "    status = model.solve()\n",
        "\n",
        "    # Vendo resultados\n",
        "    print(f\"Status: {'Sucesso' if model.status else 'Falha':}, solução { 'ótima' if LpStatus[model.status] == 'Optimal' else LpStatus[model.status]} encontrada\")\n",
        "    print(f\"Valor objetivo (z): {round(model.objective.value(),2)}\")\n",
        "    print()\n",
        "\n",
        "    print(\"Valores encontrados:\")\n",
        "    for var in variables:\n",
        "        print(f\"{var.name}: {var.value()}\")"
      ],
      "metadata": {
        "id": "18AYpFhoUFn6"
      },
      "execution_count": null,
      "outputs": []
    },
    {
      "cell_type": "markdown",
      "source": [
        "# Questão 1.4"
      ],
      "metadata": {
        "id": "zQMcrUDOUwO-"
      }
    },
    {
      "cell_type": "code",
      "source": [
        "restricao = [[-2,5,3], [8,2,-5], [0,0,10],[10,0,2]]\n",
        "variaveis = [-50000,-100000,-25000]\n",
        "b = [1]*4\n",
        "\n",
        "formatar(variaveis, restricao, b)\n",
        "res = linprog(variaveis, restricao, b, method='simplex')\n",
        "print(f'\\nZ(x) = {-res.fun}\\n')\n",
        "\n",
        "for i, var in enumerate(res.x):\n",
        "  print(f'y{i+1} = {var}')\n",
        "\n"
      ],
      "metadata": {
        "colab": {
          "base_uri": "https://localhost:8080/"
        },
        "id": "dVKcumOQW21E",
        "outputId": "e2dca43d-a054-44c5-db99-760bfb94cf56"
      },
      "execution_count": null,
      "outputs": [
        {
          "output_type": "stream",
          "name": "stdout",
          "text": [
            "Maximizar:  - 50000*y1 - 100000*y2 - 25000*y3\n",
            "Sujeito a:\n",
            "\t- 2y1 + 5y2 + 3y3 <= 1\n",
            "\t  8y1 + 2y2 - 5y3 <= 1\n",
            "\t  0y1 + 0y2 + 10y3 <= 1\n",
            "\t  10y1 + 0y2 + 2y3 <= 1\n",
            "\n",
            "Z(x) = 27135.6783919598\n",
            "\n",
            "y1 = 0.09296482412060302\n",
            "y2 = 0.21608040201005024\n",
            "y3 = 0.03517587939698493\n"
          ]
        }
      ]
    },
    {
      "cell_type": "markdown",
      "source": [
        "# Questão 2"
      ],
      "metadata": {
        "id": "0nLZ5gjOU0lv"
      }
    },
    {
      "cell_type": "code",
      "source": [
        "# Iniciando modelo como Maximizar\n",
        "modelo = LpProblem(name=\"Arrecadação_de_Imposto\", sense=LpMaximize)\n",
        "\n",
        "# Definindo variavel de decisão\n",
        "X = { i: LpVariable(name=f\"X{i}\", lowBound=0) for i in range(1, 6)}\n",
        "\n",
        "# Adiciona restrições\n",
        "modelo += (0.18*X[1] + 0.28*X[2] + 0.4*X[3] + 0.5*X[4]<= 0.2125*X[5], \"Casas_novas\")\n",
        "modelo += (50*X[1] + 70*X[2] + 130*X[3] + 160*X[4] + 2*X[5] <= 15000, \"Custo_demoli_contru\")\n",
        "modelo += (X[5] <= 300, \"Max_casa_antiga\")\n",
        "modelo += (-0.25*X[1] - 0.25*X[2] + 0.75*X[3] + 0.75*X[4] >= 0, \"Casas_trip_quadra\")\n",
        "modelo += ( 0.8*X[1] - 0.2*X[2] - 0.2*X[3] - 0.2*X[4] >= 0, \"Casas_simples\")\n",
        "modelo += (-0.1*X[1] + 0.9*X[2] - 0.1*X[3] - 0.1*X[4] >= 0, \"Casas_duplas\")\n",
        "\n",
        "# Função Objetivo\n",
        "modelo += 1000*X[1] + 1900*X[2] + 2700*X[3]+ 3400*X[4]\n",
        "relatorio(modelo, X.values(), 'Maximizar')\n"
      ],
      "metadata": {
        "colab": {
          "base_uri": "https://localhost:8080/"
        },
        "id": "ElB8rhwLHvOv",
        "outputId": "acd3a696-ed72-4377-931a-4bd9ff34e684"
      },
      "execution_count": null,
      "outputs": [
        {
          "output_type": "stream",
          "name": "stdout",
          "text": [
            "Maximizar:\n",
            "\tz = 1000*X1 + 1900*X2 + 2700*X3 + 3400*X4\n",
            "\n",
            "Sujeito a:\n",
            "\t0.18*X1 + 0.28*X2 + 0.4*X3 + 0.5*X4 - 0.2125*X5 <= -0.0\n",
            "\t50*X1 + 70*X2 + 130*X3 + 160*X4 + 2*X5 <= 15000\n",
            "\tX5 <= 300\n",
            "\t-0.25*X1 - 0.25*X2 + 0.75*X3 + 0.75*X4 >= -0.0\n",
            "\t0.8*X1 - 0.2*X2 - 0.2*X3 - 0.2*X4 >= -0.0\n",
            "\t-0.1*X1 + 0.9*X2 - 0.1*X3 - 0.1*X4 >= -0.0\n",
            "\tX1, X2, X3, X4, X5 ≥ 0\n",
            "\n",
            "Status: Sucesso, solução ótima encontrada\n",
            "Valor objetivo (z): 343965.15\n",
            "\n",
            "Valores encontrados:\n",
            "X1: 35.829704\n",
            "X2: 98.531685\n",
            "X3: 44.787129\n",
            "X4: 0.0\n",
            "X5: 244.48504\n"
          ]
        }
      ]
    }
  ]
}